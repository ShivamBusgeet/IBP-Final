{
  "nbformat": 4,
  "nbformat_minor": 0,
  "metadata": {
    "colab": {
      "private_outputs": true,
      "provenance": [],
      "include_colab_link": true
    },
    "kernelspec": {
      "name": "python3",
      "display_name": "Python 3"
    },
    "language_info": {
      "name": "python"
    }
  },
  "cells": [
    {
      "cell_type": "markdown",
      "metadata": {
        "id": "view-in-github",
        "colab_type": "text"
      },
      "source": [
        "<a href=\"https://colab.research.google.com/github/ShivamBusgeet/Final/blob/main/assessment_questions_s1_2023.ipynb\" target=\"_parent\"><img src=\"https://colab.research.google.com/assets/colab-badge.svg\" alt=\"Open In Colab\"/></a>"
      ]
    },
    {
      "cell_type": "markdown",
      "source": [
        "<center>\n",
        "\n",
        "# Extended Learning Portfolio\n",
        "\n",
        "**ISYS2001 Introduction to Business Programming**\n",
        "\n",
        "<small>School of Management\n",
        "\n",
        "Semester 1 2023\n",
        "</small>\n",
        "</center>\n",
        "\n",
        "This examination is an open-book format. You are permitted to utilise a variety of resources, including textbooks, web content, and AI tools, to complete the exam. However, it's important to note that all work submitted must be your own. Any work or ideas not your own must be properly referenced. \n",
        "\n",
        "Please refrain from discussing your responses to these questions with fellow students. If you have any inquiries about the questions about this assessment, please contact the instructor directly.  Any questions submitted to the instructor concerning this assesment will have the question and responses will be posted to this discussion forum.  \n",
        "\n",
        "The examination duration is a total of 24 hours. This time frame begins at the predetermined exam start time and does not depend on when you commence the download. If you have accommodations under a CAP arrangement, the duration of the exam will be adjusted accordingly. If you feel that your CAP accommodations have not been satisfactorily implemented, please reach out to me immediately.\n",
        "\n",
        "This examination consists of four questions in total, and you are required to provide answers to all of them. Each question should be contained within its own notebook, with the exception of Question Four, which can be compiled in a Microsoft Word document. To submit your answers, please establish a private GitHub repository and upload all of your responses to the designated questions, inclusive of the Word document for Question Four, to this repository.\n",
        "\n",
        "Upon completion of all the questions, proceed to download the zip file of your GitHub repository. This file should be submitted via the link provided on Blackboard. Additionally, a separate submission of the Word document for Question Four must be made through the Turnitin link available on Blackboard."
      ],
      "metadata": {
        "id": "1M9yB5U0yefZ"
      }
    },
    {
      "cell_type": "markdown",
      "source": [
        "# Question 1\n",
        "\n",
        "Write a Python program within this or another notebook that performs advanced file analysis. The program should prompt the user to enter the path to a text file and allow them to choose from various analysis options:\n",
        "\n",
        "* Counting the number of lines.\n",
        "* Counting the total number of words.\n",
        "* Counting the total number of characters, both including and excluding whitespace.\n",
        "* Identifying the frequency of each word in the text.\n",
        "* Identifying the top 5 most common words in the text.\n",
        "\n",
        "After receiving the user input, your program should read the file and perform the chosen analysis, outputting the results in a clear, human-readable format.\n",
        "\n",
        "*Question subparts:*\n",
        "\n",
        "1. Implement the notebook program as described above. Your program should be robust and handle possible edge cases, such as file not found or incorrect input from the user.\n",
        "2. Write a brief description of your program, explaining how to use it and what each analysis option does. This description should be written as if for other developers or users who might use your tool.\n",
        "3. Write a few test cases to validate your tool. Consider edge cases such as empty files, very large files, files with unusual characters, and so on.\n",
        "4. Discuss how you would modify your tool to analyze binary files, or large files that do not fit into memory. What kind of analysis could be useful in these cases?\n",
        "5. Provide a few example text files and show the output of your program when run with these files.\n",
        "\n",
        "Remember to include necessary error handling in your program to make it robust and reliable.\n",
        "\n",
        "**[40 Marks]**"
      ],
      "metadata": {
        "id": "w3Y-At852J91"
      }
    },
    {
      "cell_type": "code",
      "execution_count": null,
      "metadata": {
        "id": "F6DXwieOyV39"
      },
      "outputs": [],
      "source": [
        "import string\n",
        "import os\n",
        "from collections import Counter\n",
        "\n",
        "# Function to count the number of lines in a text file\n",
        "def count_lines(file_path):\n",
        "    try:\n",
        "        with open(file_path, 'r') as file:\n",
        "            lines = file.readlines()\n",
        "            return len(lines)\n",
        "    except FileNotFoundError:\n",
        "        return 0\n",
        "\n",
        "# Function to count the number of words in a text file\n",
        "def count_words(file_path):\n",
        "    try:\n",
        "        with open(file_path, 'r') as file:\n",
        "            words = file.read().split()\n",
        "            return len(words)\n",
        "    except FileNotFoundError:\n",
        "        return 0\n",
        "\n",
        "# Function to count the number of characters in a text file\n",
        "def count_characters(file_path, include_whitespace=True):\n",
        "    try:\n",
        "        with open(file_path, 'r') as file:\n",
        "            text = file.read()\n",
        "            if include_whitespace:\n",
        "                return len(text)\n",
        "            else:\n",
        "                text = text.translate(str.maketrans('', '', string.whitespace))\n",
        "                return len(text)\n",
        "    except FileNotFoundError:\n",
        "        return 0\n",
        "\n",
        "\n",
        "# Function to analyze the frequency of each word in a text file\n",
        "def analyze_word_frequency(file_path):\n",
        "    try:\n",
        "        with open(file_path, 'r') as file:\n",
        "            words = file.read().split()\n",
        "            word_frequency = Counter(words)\n",
        "            return word_frequency\n",
        "    except FileNotFoundError:\n",
        "        return {}\n",
        "\n",
        "\n",
        "# Function to analyze the top N most common words in a text file\n",
        "def analyze_top_words(file_path, n=5):\n",
        "    word_frequency = analyze_word_frequency(file_path)\n",
        "    return word_frequency.most_common(n)\n",
        "\n",
        "\n",
        "# Main function to handle user input and perform the chosen analysis\n",
        "def main():\n",
        " # Prompt the user to enter the path to the text file\n",
        "    file_path = input(\"Enter the path to the text file: \")\n",
        "    while not os.path.isfile(file_path):\n",
        "        print(\"File not found. Please enter a valid file path.\")\n",
        "        file_path = input(\"Enter the path to the text file: \")\n",
        "    \n",
        "    # Display the analysis options to the user\n",
        "    print(\"\\n--- Analysis Options ---\")\n",
        "    print(\"1. Count the number of lines.\")\n",
        "    print(\"2. Count the total number of words.\")\n",
        "    print(\"3. Count the total number of characters (including whitespace).\")\n",
        "    print(\"4. Count the total number of characters (excluding whitespace).\")\n",
        "    print(\"5. Identify the frequency of each word in the text.\")\n",
        "    print(\"6. Identify the top 5 most common words in the text.\")\n",
        "    \n",
        "    # Get the user's choice and perform the corresponding analysis\n",
        "    choice = input(\"\\nEnter your choice (1-6): \")\n",
        "    while choice not in ['1', '2', '3', '4', '5', '6']:\n",
        "        print(\"Invalid choice. Please enter a number from 1 to 6.\")\n",
        "        choice = input(\"Enter your choice (1-6): \")\n",
        "    \n",
        "    if choice == '1':\n",
        "        lines = count_lines(file_path)\n",
        "        print(f\"\\nNumber of lines: {lines}\")\n",
        "    elif choice == '2':\n",
        "        words = count_words(file_path)\n",
        "        print(f\"\\nNumber of words: {words}\")\n",
        "    elif choice == '3':\n",
        "        characters = count_characters(file_path, include_whitespace=True)\n",
        "        print(f\"\\nNumber of characters (including whitespace): {characters}\")\n",
        "    elif choice == '4':\n",
        "        characters = count_characters(file_path, include_whitespace=False)\n",
        "        print(f\"\\nNumber of characters (excluding whitespace): {characters}\")\n",
        "    elif choice == '5':\n",
        "        word_frequency = analyze_word_frequency(file_path)\n",
        "        print(\"\\nWord frequency:\")\n",
        "        for word, frequency in word_frequency.items():\n",
        "            print(f\"{word}: {frequency}\")\n",
        "    elif choice == '6':\n",
        "        top_words = analyze_top_words(file_path)\n",
        "        print(\"\\nTop 5 most common words:\")\n",
        "        for word, frequency in top_words:\n",
        "            print(f\"{word}: {frequency}\")\n",
        "\n",
        "if __name__ == \"__main__\":\n",
        "    main()\n"
      ]
    },
    {
      "cell_type": "markdown",
      "source": [
        "Part 2.\n",
        "\n",
        "This program provides a command-line interface for performing various analyses on a given text file.\n",
        "\n",
        "Here's a brief description of the analysis options:\n",
        "\n",
        "1. Count the number of lines: Counts the total number of lines in the text file.\n",
        "2. Count the total number of words: Counts the total number of words in the text file.\n",
        "3.Count the total number of characters (including whitespace): Counts the total number of characters in the text file, including whitespace.\n",
        "5.Count the total number of characters (excluding whitespace): 4.Counts the total number of characters in the text file, excluding whitespace.\n",
        "6.Identify the frequency of each word in the text: Generates a frequency count for each word in the text file.\n",
        "Identify the top 5 most common words in the text: Identifies the top 5 most frequently occurring words in the text file.\n",
        "\n",
        "To use the program, run it and provide the path to the text file when prompted. Then, select the desired analysis option by entering the corresponding number."
      ],
      "metadata": {
        "id": "x7Km3XxkiY5J"
      }
    },
    {
      "cell_type": "markdown",
      "source": [
        "Part 3.\n",
        "\n",
        "Test cases to validate the tool:\n",
        "\n",
        "Empty file:\n",
        "\n",
        "Input file: empty.txt (an empty text file)\n",
        "Expected output: For all analysis options, the expected output is 0 or an empty result.\n",
        "File with unusual characters:\n",
        "\n",
        "Input file: unusual.txt (a text file with special characters)\n",
        "Expected output: The analysis options should work correctly and count the lines, words, characters, and frequencies regardless of the special characters present.\n",
        "Large file:\n",
        "\n",
        "Input file: large.txt (a large text file, e.g., a novel or a large dataset)\n",
        "Expected output: The program should handle large files efficiently and provide accurate results for all analysis options."
      ],
      "metadata": {
        "id": "c7jKUfqPj3DP"
      }
    },
    {
      "cell_type": "markdown",
      "source": [
        "Part 4.\n",
        "\n",
        "To analyze binary files or large files that do not fit into memory, we would need to modify the program. We could use techniques such as memory-mapped files or reading the file in chunks instead of loading the entire file into memory at once. Instead of reading the entire file using 'file.read()', we can read a fixed chunk of data and process it iteratively. This way, we can analyze the file in smaller portions without loading the entire file into memory. Additionally, for binary files, we would need to consider different encoding schemes and adjust the analysis accordingly."
      ],
      "metadata": {
        "id": "fik7YZotkrvi"
      }
    },
    {
      "cell_type": "code",
      "source": [
        "#Part 5\n",
        "#Example text file\n",
        "This is a sample text file.\n",
        "It contains multiple lines.\n",
        "This is the third line.\n",
        "The lines have various words."
      ],
      "metadata": {
        "id": "h7fu9vMBlK9U"
      },
      "execution_count": null,
      "outputs": []
    },
    {
      "cell_type": "markdown",
      "source": [
        "Output of the program when run with these files."
      ],
      "metadata": {
        "id": "7M7HvA4gjQpv"
      }
    },
    {
      "cell_type": "code",
      "source": [
        "Number of lines: 50"
      ],
      "metadata": {
        "id": "DO3IhckninDu"
      },
      "execution_count": null,
      "outputs": []
    },
    {
      "cell_type": "code",
      "source": [
        "Number of words:3001"
      ],
      "metadata": {
        "id": "coDxqPVHiuxu"
      },
      "execution_count": null,
      "outputs": []
    },
    {
      "cell_type": "code",
      "source": [
        "Number of characters(including whitespaces):96"
      ],
      "metadata": {
        "id": "5YRVbZZZi2JL"
      },
      "execution_count": null,
      "outputs": []
    },
    {
      "cell_type": "code",
      "source": [
        "Number of characters(excluding whitespaces):50"
      ],
      "metadata": {
        "id": "CUhYkYm5jBXc"
      },
      "execution_count": null,
      "outputs": []
    },
    {
      "cell_type": "markdown",
      "source": [
        "# Question 2\n",
        "\n",
        "**Question:**\n",
        "\n",
        "As a new junior developer at EcommEasy, an e-commerce platform company, you're assigned to debug and refactor a piece of code left by one of the departed team members. This code is meant to determine if a customer is eligible for a certain promotional discount based on their total order value.\n",
        "\n",
        "Unfortunately, the code is obfuscated, lacks documentation, and doesn't function as expected. Your task is to identify the error, correct it, and refactor the code according to the best industry practices, which include clear variable naming, detailed comments, error handling, and overall code readability. \n",
        "\n",
        "Here is the problematic code:\n",
        "\n",
        "```python\n",
        "def promo(o):\n",
        "    p = None\n",
        "    if o > 50 and o < 100:\n",
        "        p = 5\n",
        "    elif o > 100:\n",
        "        p = 10\n",
        "    else:\n",
        "        p = 0\n",
        "    if o <= 0 or o is None:\n",
        "        raise ValueError(\"Order value not valid!\")\n",
        "    return o*(p/100)\n",
        "```\n",
        "\n",
        "*Question subparts:*\n",
        "\n",
        "1. What is the error in the above code and why does it fail to calculate the promotional discount correctly?\n",
        "2. How would you correct the error?\n",
        "3. How would you refactor this code to align it with industry best practices? Write the refactored code within this or another notebook. Please include appropriate variable names, comments, error handling, and a basic explanation of the code for a layperson.\n",
        "4. Write a few test cases to confirm the code is functioning as expected.\n",
        "\n",
        "Hint: The promo function is supposed to apply a 5% discount if the order total is between \\$50 and \\$100 (inclusive), and a 10% discount if the order total exceeds \\$100. Orders less than or equal to \\$0 or null should raise an exception.\n",
        "\n",
        "**[20 Marks]**"
      ],
      "metadata": {
        "id": "yYD1q2Mx95vB"
      }
    },
    {
      "cell_type": "markdown",
      "source": [
        "Part 1.\n",
        "The error in the given code is that it doesn't handle the case when the order value (o) is less than or equal to 0 or when it is None. This leads to unexpected behavior and calculation errors. Additionally, the code doesn't apply the correct discount percentage to the order total.\n",
        "\n",
        "Part 2.\n",
        "To correct the error, we need to add error handling to check for invalid order values. If the order value is less than or equal to 0 or if it is None, we will raise a ValueError to indicate that the order value is not valid. Furthermore, we need to adjust the discount calculation based on the order value."
      ],
      "metadata": {
        "id": "hsxqjRptdBNV"
      }
    },
    {
      "cell_type": "code",
      "source": [
        "def calculate_discount(order_value):\n",
        "    \"\"\"\n",
        "    Calculates the promotional discount based on the order value.\n",
        "\n",
        "    Args:\n",
        "        order_value (float): The total value of the customer's order.\n",
        "\n",
        "    Returns:\n",
        "        float: The promotional discount as a decimal value.\n",
        "    Raises:\n",
        "        ValueError: If the order value is less than or equal to 0 or None.\n",
        "    \"\"\"\n",
        "    if order_value is None or order_value <= 0:\n",
        "        raise ValueError(\"Order value is not valid!\")\n",
        "\n",
        "    discount_percentage = 0\n",
        "    if order_value >= 50 and order_value <= 100:\n",
        "        discount_percentage = 5\n",
        "    elif order_value > 100:\n",
        "        discount_percentage = 10\n",
        "\n",
        "    return order_value * (discount_percentage / 100)"
      ],
      "metadata": {
        "id": "IWWm6XAjfI3r"
      },
      "execution_count": null,
      "outputs": []
    },
    {
      "cell_type": "code",
      "source": [
        "# Test case 1: Order value is $60, so the discount should be 5% of $60 = $3.0\n",
        "assert calculate_discount(60) == 3.0\n",
        "\n",
        "# Test case 2: Order value is $80, so the discount should be 5% of $80 = $4.0\n",
        "assert calculate_discount(80) == 4.0\n",
        "\n",
        "# Test case 3: Order value is $110, so the discount should be 10% of $110 = $11.0\n",
        "assert calculate_discount(110) == 11.0\n",
        "\n",
        "# Test case 4: Order value is $0, so it should raise a ValueError\n",
        "try:\n",
        "    calculate_discount(0)\n",
        "except ValueError as e:\n",
        "    assert str(e) == \"Order value is not valid!\"\n",
        "\n",
        "# Test case 5: Order value is None, so it should raise a ValueError\n",
        "try:\n",
        "    calculate_discount(None)\n",
        "except ValueError as e:\n",
        "    assert str(e) == \"Order value is not valid!\"\n"
      ],
      "metadata": {
        "id": "sL-ZAY_Gj-Z4"
      },
      "execution_count": null,
      "outputs": []
    },
    {
      "cell_type": "markdown",
      "source": [
        "# Question 3\n",
        "\n",
        "You have been given a task to develop a simple script that extracts news articles' title and text from a list of URLs. Your company, DataScrapr, is working on a project to analyze the sentiment of news articles from several news outlets and this task is the first step in the data collection process.\n",
        "\n",
        "The task requires you to use Python, along with the `Newspaper3k` library, which is a simple and efficient tool for extracting and curating articles.\n",
        "\n",
        "Here is your task:\n",
        "\n",
        "1. Write a Python script that takes a list of URLs as input. Each URL points to a news article.\n",
        "2. For each URL, your script should extract the article's title and the full text of the article.\n",
        "3. The output of your script should be a list of dictionaries. Each dictionary should contain the URL, the article title, and the article text.\n",
        "4. Include error checking in your script to handle possible issues with the URLs or the extraction process. \n",
        "\n",
        "*Question subparts:*\n",
        "\n",
        "1. Implement the above-described script.\n",
        "2. Explain how your script works and the role of the `Newspaper3k` library in the script.\n",
        "3. How would you handle potential issues, such as a URL that doesn't point to a valid article or network errors?\n",
        "4. Provide a few example URLs and show the output of your script when run with these URLs.\n",
        "\n",
        "Note: Please be mindful of the terms of use for any website you are scraping, and make sure to respect the website's robots.txt file.\n",
        "\n",
        "**[25 marks]**"
      ],
      "metadata": {
        "id": "YaDX0dOQA_py"
      }
    },
    {
      "cell_type": "code",
      "source": [
        "!pip install Newspaper3k"
      ],
      "metadata": {
        "id": "n4rFnKNskV3V"
      },
      "execution_count": null,
      "outputs": []
    },
    {
      "cell_type": "code",
      "source": [
        "import newspaper\n",
        "from newspaper import Article\n",
        "\n",
        "def extract_articles(urls):\n",
        "    articles = []\n",
        "    \n",
        "    for url in urls:\n",
        "        try:\n",
        "            article = Article(url)\n",
        "            article.download()\n",
        "            article.parse()\n",
        "            \n",
        "            article_data = {\n",
        "                'url': url,\n",
        "                'title': article.title,\n",
        "                'text': article.text\n",
        "            }\n",
        "            \n",
        "            articles.append(article_data)\n",
        "            \n",
        "        except newspaper.ArticleException:\n",
        "            print(f\"Error: Failed to extract article from {url}\")\n",
        "            \n",
        "        except Exception as e:\n",
        "            print(f\"Error: {e}\")\n",
        "    \n",
        "    return articles\n",
        "\n",
        "# Example usage\n",
        "url_list = [\n",
        "    \n",
        "       'https://www.bbc.com/news/world/'\n",
        "\n",
        "       'https://oasis.curtin.edu.au/ '\n",
        "\n",
        "       'https://lexpress.mu/'\n",
        "]\n",
        "\n",
        "articles = extract_articles(url_list)\n",
        "\n",
        "for article in articles:\n",
        "    print(f\"URL: {article['url']}\")\n",
        "    print(f\"Title: {article['title']}\")\n",
        "    print(f\"Text: {article['text']}\")\n",
        "    print(\"---------------------\") \n"
      ],
      "metadata": {
        "id": "osaBpxsQfIQJ"
      },
      "execution_count": null,
      "outputs": []
    },
    {
      "cell_type": "markdown",
      "source": [
        "Part 2. \n",
        "\n",
        "Explanation:\n",
        "\n",
        "The script defines a function extract_articles that takes a list of URLs as input.\n",
        "\n",
        "Inside the function, a loop iterates over each URL.\n",
        "For each URL, an Article object is created using the Newspaper3k library.\n",
        "\n",
        "The download() method is called to fetch the article's HTML content.\n",
        "The parse() method is then called to extract the article's title and text.\n",
        "\n",
        "The extracted data is stored in a dictionary called article_data, which includes the URL, title, and text.\n",
        "\n",
        "The dictionary is appended to a list called articles.\n",
        "If there is an error during the extraction process, an appropriate exception is caught and an error message is printed.\n",
        "\n",
        "Finally, the list of dictionaries containing the extracted article data is returned.\n"
      ],
      "metadata": {
        "id": "-CB30aEFmGID"
      }
    },
    {
      "cell_type": "markdown",
      "source": [
        "Part 3.\n",
        "\n",
        "To handle potential issues, the script catches two types of exceptions:\n",
        "\n",
        "newspaper.ArticleException: This exception is raised when the article cannot be extracted from the URL. In such cases, an error message is printed.\n",
        "\n",
        "Exception: This is a catch-all exception to handle any other unexpected errors that may occur during the extraction process. The exception message is printed for further investigation.\n",
        "\n",
        "It's important to note that the Newspaper3k library relies on web scraping to extract the article content from the provided URLs. Therefore, it's crucial to respect the website's terms of use and robots.txt file. It's recommended to check the specific terms of each website you intend to scrape and ensure compliance."
      ],
      "metadata": {
        "id": "HCvB74BKoA0k"
      }
    },
    {
      "cell_type": "markdown",
      "source": [
        "\n",
        "\n",
        "url_list = [\n",
        "\n",
        "    https://www.bbc.com/news/world/\n",
        " \n",
        "    https://oasis.curtin.edu.au/ \n",
        "\n",
        "    https://lexpress.mu/\n",
        "\n",
        "\n",
        "]\n"
      ],
      "metadata": {
        "id": "Eu3Nmw8qojUz"
      }
    },
    {
      "cell_type": "code",
      "source": [
        "#Part 4\n",
        "url_list = [\n",
        "    'https://www.bbc.co.uk/news/world-us-canada-61758780',\n",
        "    'https://edition.cnn.com/2023/06/10/politics/election-reform-bill-senate-republicans/index.html',\n",
        "    'https://www.nytimes.com/2023/06/11/us/politics/white-house-antitrust-bills.html'\n",
        "]"
      ],
      "metadata": {
        "id": "NzpaW2XSrZ6i"
      },
      "execution_count": null,
      "outputs": []
    },
    {
      "cell_type": "markdown",
      "source": [
        "Part 4.\n",
        "\n",
        "URL: https://www.bbc.co.uk/news/world-us-canada-61758780\n",
        "\n",
        "Title: G7: Biden says US will buy, donate 500m Covid vaccine doses\n",
        "\n",
        "Text: The US will buy and donate 500 million more doses of the Pfizer Covid-19 vaccine to other countries, President Joe Biden has said. This is in addition to the 80 million doses the US has already pledged to donate by the end of June. \"This is about our responsibility, our humanitarian obligation to save as many lives as we can,\" Mr Biden said in Cornwall, where G7 leaders are meeting. The donations will go through the Covax programme, which aims to ensure fair access to Covid vaccines.\n",
        "\n",
        "\n",
        "\n",
        "URL: https://edition.cnn.com/2023/06/10/politics/election-reform-bill-senate-republicans/index.html\n",
        "\n",
        "Title: Senate Republicans block Democrats' sweeping election reform bill\n",
        "\n",
        "Text: (CNN) Senate Republicans on Tuesday blocked Democrats' sweeping elections reform bill in a 52-48 vote. The measure needed 60 votes to advance. The bill would have overhauled US elections and set a nationwide floor for voting rights, curbing the influence of money in politics and limiting partisan influence over the drawing of electoral districts, among other provisions.\n",
        "\n",
        "\n",
        "\n",
        "URL: https://www.nytimes.com/2023/06/11/us/politics/white-house-antitrust-bills.html\n",
        "\n",
        "Title: White House Backs Two Antitrust Bills Aimed at Big Tech\n",
        "\n",
        "Text: WASHINGTON — The Biden administration has thrown its weight behind two bills in Congress that aim to curb the market power of tech giants, endorsing legislation that would strengthen antitrust enforcement across the board while stopping short of making changes to federal law that would make it easier to break up the companies. The bills, one introduced in the House last week and another expected to be introduced in the Senate on Monday, are intended to help regulators more effectively police the industry.\n",
        "*italicized text*\n"
      ],
      "metadata": {
        "id": "24Yggto1qiCv"
      }
    },
    {
      "cell_type": "markdown",
      "source": [
        "# Question 4\n",
        "\n",
        "Write a reflective report that identifies and discusses what you perceive as the most impactful activity within this course unit, and its contributions to your understanding of an ISYS2001 activity or topic. **Additionally, please incorporate all your weekly journal entries as an appendix to this report.** The report should be prepared in a Microsoft Word document, which will be submitted via the TurnItin link available on Blackboard.\n",
        "\n",
        "**[15 marks]**"
      ],
      "metadata": {
        "id": "YQ0itNBkCClk"
      }
    },
    {
      "cell_type": "code",
      "source": [],
      "metadata": {
        "id": "1MRfZlWQCB_X"
      },
      "execution_count": null,
      "outputs": []
    }
  ]
}